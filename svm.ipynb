{
  "nbformat": 4,
  "nbformat_minor": 5,
  "metadata": {
    "kernelspec": {
      "display_name": "Python 3.8.8 64-bit ('base': conda)",
      "language": "python",
      "name": "python388jvsc74a57bd0db247b68c272a1cde3bdee6b84f3f2ce24663631c4b92b08adbd61c23957d62b"
    },
    "language_info": {
      "codemirror_mode": {
        "name": "ipython",
        "version": 3
      },
      "file_extension": ".py",
      "mimetype": "text/x-python",
      "name": "python",
      "nbconvert_exporter": "python",
      "pygments_lexer": "ipython3",
      "version": "3.8.8"
    },
    "colab": {
      "name": "svm.ipynb",
      "provenance": [],
      "include_colab_link": true
    }
  },
  "cells": [
    {
      "cell_type": "markdown",
      "metadata": {
        "id": "view-in-github",
        "colab_type": "text"
      },
      "source": [
        "<a href=\"https://colab.research.google.com/github/asattiraju13/datahackathon/blob/main/svm.ipynb\" target=\"_parent\"><img src=\"https://colab.research.google.com/assets/colab-badge.svg\" alt=\"Open In Colab\"/></a>"
      ]
    },
    {
      "cell_type": "markdown",
      "metadata": {
        "id": "4a800b6d"
      },
      "source": [
        "### Imports"
      ],
      "id": "4a800b6d"
    },
    {
      "cell_type": "code",
      "metadata": {
        "id": "3b8ca10e"
      },
      "source": [
        "import pandas as pd\n",
        "import numpy as np\n",
        "\n",
        "from sklearn.model_selection import StratifiedShuffleSplit\n",
        "from sklearn.model_selection import train_test_split\n",
        "\n",
        "from sklearn.model_selection import GridSearchCV\n",
        "\n",
        "from sklearn.utils import class_weight\n",
        "\n",
        "from sklearn.metrics import precision_recall_fscore_support\n",
        "\n",
        "from sklearn.svm import SVC\n",
        "\n",
        "import matplotlib.pyplot as plt\n",
        "\n",
        "from sklearn.inspection import permutation_importance"
      ],
      "id": "3b8ca10e",
      "execution_count": null,
      "outputs": []
    },
    {
      "cell_type": "markdown",
      "metadata": {
        "id": "b05fee55"
      },
      "source": [
        "### Input Data"
      ],
      "id": "b05fee55"
    },
    {
      "cell_type": "code",
      "metadata": {
        "id": "3537bd4f"
      },
      "source": [
        "df = pd.read_csv('covid-selected-data.csv')\n",
        "labels = pd.read_csv('covid-selected-data-labels.csv')\n",
        "\n",
        "data = pd.merge(df,labels,on='Unnamed: 0')\n",
        "data['type'] = data['type'].map({'Normal':0,'Mild':1,'Severe':2})\n",
        "\n",
        "X = data.drop(['type','Unnamed: 0'],axis=1)\n",
        "y = data['type'].values"
      ],
      "id": "3537bd4f",
      "execution_count": null,
      "outputs": []
    },
    {
      "cell_type": "markdown",
      "metadata": {
        "id": "f960fd7d"
      },
      "source": [
        "### Upsampling Function"
      ],
      "id": "f960fd7d"
    },
    {
      "cell_type": "code",
      "metadata": {
        "id": "f50c4298"
      },
      "source": [
        "def random_upsample(DataZ,Labels,rand_seed):\n",
        "    # Find Unique Labels and Number of Samples Per Class\n",
        "    Groups,NC = np.unique(Labels, return_counts=True)\n",
        "    # Find Minimum Number of Samples Per Class\n",
        "    MaxC = np.max(NC)\n",
        "    count = 0\n",
        "    for i in Groups:\n",
        "        # Generate Randomized Indices\n",
        "        np.random.seed(rand_seed)\n",
        "        randpermvals = np.random.permutation(NC[i])\n",
        "        \n",
        "        # Select All Samples for a Certain Class\n",
        "        DG = DataZ[np.squeeze(list(Labels)==i*np.ones_like(Labels)),:]        \n",
        "        \n",
        "        # Randomly Upsample Class and Define Labels\n",
        "        if (randpermvals.shape[0] > MaxC - NC[i]):\n",
        "            DG = np.concatenate((DG,DG[randpermvals<MaxC-NC[i],:]),axis=0)\n",
        "        \n",
        "        else:\n",
        "            while (DG.shape[0] < MaxC / 2):\n",
        "                DG = np.concatenate((DG, DG), axis=0)\n",
        "                NC[i] = DG.shape[0]\n",
        "                randpermvals = np.random.permutation(NC[i])\n",
        "            DG = np.concatenate((DG,DG[randpermvals<MaxC-NC[i],:]),axis=0)\n",
        "        \n",
        "        LG = i*np.ones((MaxC,1))\n",
        "        \n",
        "        # Concatenate Samples from Each Class\n",
        "        if count == 0:\n",
        "            DataZ2 = DG; Labels2 = LG;\n",
        "        else:\n",
        "            DataZ2 = np.concatenate((DataZ2,DG),axis=0)\n",
        "            Labels2 = np.concatenate((Labels2,LG),axis=0)\n",
        "        count += 1\n",
        "    return(DataZ2,list(Labels2))"
      ],
      "id": "f50c4298",
      "execution_count": null,
      "outputs": []
    },
    {
      "cell_type": "markdown",
      "metadata": {
        "id": "6917776a"
      },
      "source": [
        "### Training and Evaluation"
      ],
      "id": "6917776a"
    },
    {
      "cell_type": "code",
      "metadata": {
        "id": "4d9ee98b",
        "outputId": "912fca3a-b52e-41dd-c4e5-90af838cd009"
      },
      "source": [
        "sss = StratifiedShuffleSplit(n_splits=5,test_size=0.2,train_size=0.8,random_state=0)\n",
        "\n",
        "y_pred_all = []; y_all = []; weights_per_fold = [];\n",
        "\n",
        "svm = SVC(C=1.5,kernel='rbf')\n",
        "\n",
        "# Split data into Training + Validation and Test Groups\n",
        "for train_val_index, test_index in sss.split(X.values,y):\n",
        "    \n",
        "    X_train_val = X.values[train_val_index]\n",
        "    y_train_val = y[train_val_index]\n",
        "    X_test = X.values[test_index]\n",
        "    y_test = y[test_index]\n",
        "    \n",
        "    \n",
        "    # Split Train/Val Data into Training and Validation Groups\n",
        "    sss2 = StratifiedShuffleSplit(n_splits=1,test_size=0.25,train_size=0.75,random_state=0)\n",
        "    \n",
        "    for train_index, val_index in sss2.split(X_train_val,y_train_val):\n",
        "        \n",
        "        X_train = X_train_val[train_index]\n",
        "        y_train = y_train_val[train_index]\n",
        "        \n",
        "        X_train_new, y_train_new = random_upsample(X_train, y_train, 0)\n",
        "        \n",
        "        X_val = X_train_val[val_index]\n",
        "        y_val = y_train_val[val_index]\n",
        "        \n",
        "        X_train_val = []\n",
        "        y_train_val = []\n",
        "        \n",
        "        # Create Weights for Model Classes\n",
        "        values, counts = np.unique(y_train, return_counts=True)\n",
        "        weights = class_weight.compute_class_weight('balanced', np.unique(y_train), np.squeeze(y_train))\n",
        "        class_weights = dict(zip(values, weights))\n",
        "        \n",
        "        # TRAIN AND TEST MODEL HERE\n",
        "        svm.fit(X_train_new, y_train_new)\n",
        "        \n",
        "        y_pred_all.append(svm.predict(X_test))\n",
        "        y_all.append(y_test)\n",
        "        weights_per_fold.append(class_weights)\n",
        "        \n",
        "        print('Fold Completed.')"
      ],
      "id": "4d9ee98b",
      "execution_count": null,
      "outputs": [
        {
          "name": "stderr",
          "output_type": "stream",
          "text": [
            "/Users/asattiraju/opt/anaconda3/lib/python3.8/site-packages/sklearn/utils/validation.py:70: FutureWarning: Pass classes=[0 1 2], y=[1 1 1 ... 2 0 0] as keyword args. From version 1.0 (renaming of 0.25) passing these as positional arguments will result in an error\n",
            "  warnings.warn(f\"Pass {args_msg} as keyword args. From version \"\n",
            "/Users/asattiraju/opt/anaconda3/lib/python3.8/site-packages/sklearn/utils/validation.py:63: DataConversionWarning: A column-vector y was passed when a 1d array was expected. Please change the shape of y to (n_samples, ), for example using ravel().\n",
            "  return f(*args, **kwargs)\n"
          ]
        },
        {
          "name": "stdout",
          "output_type": "stream",
          "text": [
            "Fold Completed.\n"
          ]
        },
        {
          "name": "stderr",
          "output_type": "stream",
          "text": [
            "/Users/asattiraju/opt/anaconda3/lib/python3.8/site-packages/sklearn/utils/validation.py:70: FutureWarning: Pass classes=[0 1 2], y=[1 1 1 ... 2 0 0] as keyword args. From version 1.0 (renaming of 0.25) passing these as positional arguments will result in an error\n",
            "  warnings.warn(f\"Pass {args_msg} as keyword args. From version \"\n",
            "/Users/asattiraju/opt/anaconda3/lib/python3.8/site-packages/sklearn/utils/validation.py:63: DataConversionWarning: A column-vector y was passed when a 1d array was expected. Please change the shape of y to (n_samples, ), for example using ravel().\n",
            "  return f(*args, **kwargs)\n"
          ]
        },
        {
          "name": "stdout",
          "output_type": "stream",
          "text": [
            "Fold Completed.\n"
          ]
        },
        {
          "name": "stderr",
          "output_type": "stream",
          "text": [
            "/Users/asattiraju/opt/anaconda3/lib/python3.8/site-packages/sklearn/utils/validation.py:70: FutureWarning: Pass classes=[0 1 2], y=[1 1 1 ... 2 0 0] as keyword args. From version 1.0 (renaming of 0.25) passing these as positional arguments will result in an error\n",
            "  warnings.warn(f\"Pass {args_msg} as keyword args. From version \"\n",
            "/Users/asattiraju/opt/anaconda3/lib/python3.8/site-packages/sklearn/utils/validation.py:63: DataConversionWarning: A column-vector y was passed when a 1d array was expected. Please change the shape of y to (n_samples, ), for example using ravel().\n",
            "  return f(*args, **kwargs)\n"
          ]
        },
        {
          "name": "stdout",
          "output_type": "stream",
          "text": [
            "Fold Completed.\n"
          ]
        },
        {
          "name": "stderr",
          "output_type": "stream",
          "text": [
            "/Users/asattiraju/opt/anaconda3/lib/python3.8/site-packages/sklearn/utils/validation.py:70: FutureWarning: Pass classes=[0 1 2], y=[1 1 1 ... 2 0 0] as keyword args. From version 1.0 (renaming of 0.25) passing these as positional arguments will result in an error\n",
            "  warnings.warn(f\"Pass {args_msg} as keyword args. From version \"\n",
            "/Users/asattiraju/opt/anaconda3/lib/python3.8/site-packages/sklearn/utils/validation.py:63: DataConversionWarning: A column-vector y was passed when a 1d array was expected. Please change the shape of y to (n_samples, ), for example using ravel().\n",
            "  return f(*args, **kwargs)\n"
          ]
        },
        {
          "name": "stdout",
          "output_type": "stream",
          "text": [
            "Fold Completed.\n"
          ]
        },
        {
          "name": "stderr",
          "output_type": "stream",
          "text": [
            "/Users/asattiraju/opt/anaconda3/lib/python3.8/site-packages/sklearn/utils/validation.py:70: FutureWarning: Pass classes=[0 1 2], y=[1 1 1 ... 2 0 0] as keyword args. From version 1.0 (renaming of 0.25) passing these as positional arguments will result in an error\n",
            "  warnings.warn(f\"Pass {args_msg} as keyword args. From version \"\n",
            "/Users/asattiraju/opt/anaconda3/lib/python3.8/site-packages/sklearn/utils/validation.py:63: DataConversionWarning: A column-vector y was passed when a 1d array was expected. Please change the shape of y to (n_samples, ), for example using ravel().\n",
            "  return f(*args, **kwargs)\n"
          ]
        },
        {
          "name": "stdout",
          "output_type": "stream",
          "text": [
            "Fold Completed.\n"
          ]
        }
      ]
    },
    {
      "cell_type": "code",
      "metadata": {
        "id": "aaab63fe",
        "outputId": "feb17dc1-8b69-4311-8fed-8fa9714ec809"
      },
      "source": [
        "# Unpack Test Results\n",
        "precision = []; recall = []; f1 = [];\n",
        "for i in range(5):\n",
        "    metrics = np.array(precision_recall_fscore_support(np.array(y_all)[i,:], np.array(y_pred_all)[i,:], beta=1.0, average=None))\n",
        "    precision.append(np.array(metrics)[0,:])\n",
        "    recall.append(np.array(metrics)[1,:])\n",
        "    f1.append(np.array(metrics)[2,:])\n",
        "print('Precision')\n",
        "print(str(np.mean(precision,axis=0)) + ' + ' + str(np.std(precision,axis=0)))\n",
        "print('Recall')\n",
        "print(str(np.mean(recall,axis=0)) + ' + ' + str(np.std(recall,axis=0)))\n",
        "print('F1')\n",
        "print(str(np.mean(f1,axis=0)) + ' + ' + str(np.std(f1,axis=0)))"
      ],
      "id": "aaab63fe",
      "execution_count": null,
      "outputs": [
        {
          "name": "stdout",
          "output_type": "stream",
          "text": [
            "Precision\n",
            "[0.9493352  0.78959262 0.94873008] + [0.0035556  0.01567101 0.0028348 ]\n",
            "Recall\n",
            "[0.92420701 0.8337386  0.96464646] + [0.0059763  0.01902065 0.00598916]\n",
            "F1\n",
            "[0.93659201 0.81103297 0.95660724] + [0.00383673 0.01653093 0.00274344]\n"
          ]
        }
      ]
    }
  ]
}